{
 "cells": [
  {
   "cell_type": "markdown",
   "id": "f19c0bf7",
   "metadata": {},
   "source": [
    "# problem 1"
   ]
  },
  {
   "cell_type": "code",
   "execution_count": 1,
   "id": "15a20f77",
   "metadata": {},
   "outputs": [
    {
     "name": "stdout",
     "output_type": "stream",
     "text": [
      "5.365\n",
      "2.2521\n",
      "not square\n"
     ]
    }
   ],
   "source": [
    "x=input()\n",
    "x=float(x)\n",
    "y=input()\n",
    "y=float(y)\n",
    "if x==y:\n",
    "    print('square')\n",
    "else: \n",
    "    print('not square')"
   ]
  },
  {
   "cell_type": "code",
   "execution_count": 2,
   "id": "c7d53f3c",
   "metadata": {},
   "outputs": [
    {
     "name": "stdout",
     "output_type": "stream",
     "text": [
      "5\n",
      "5\n",
      "square\n"
     ]
    }
   ],
   "source": [
    "x=input()\n",
    "y=input()\n",
    "if x==y:\n",
    "    print('square')\n",
    "else: \n",
    "    print('not square')\n"
   ]
  },
  {
   "cell_type": "markdown",
   "id": "3ad0adc0",
   "metadata": {},
   "source": [
    "# problem 2"
   ]
  },
  {
   "cell_type": "code",
   "execution_count": 1,
   "id": "aee2950c",
   "metadata": {},
   "outputs": [
    {
     "name": "stdout",
     "output_type": "stream",
     "text": [
      "10\n",
      "12\n",
      "15\n",
      "the third value is the greatest\n"
     ]
    }
   ],
   "source": [
    "x=int(input())\n",
    "y=int(input())\n",
    "z=int(input())\n",
    "if x>y:\n",
    "    if x>z:\n",
    "        print('The first value is the greatest')\n",
    "    else:\n",
    "        print('the third value is the greatest')\n",
    "elif y>z:\n",
    "    print('the second value is the greatest')\n",
    "else:\n",
    "    print('the third value is the greatest')"
   ]
  },
  {
   "cell_type": "code",
   "execution_count": 2,
   "id": "28daf708",
   "metadata": {},
   "outputs": [
    {
     "name": "stdout",
     "output_type": "stream",
     "text": [
      "10\n",
      "15\n",
      "12\n",
      "the second value is the greatest\n"
     ]
    }
   ],
   "source": [
    "x=int(input())\n",
    "y=int(input())\n",
    "z=int(input())\n",
    "if x>y:\n",
    "    if x>z:\n",
    "        print('The first value is the greatest')\n",
    "    else:\n",
    "        print('the third value is the greatest')\n",
    "elif y>z:\n",
    "    print('the second value is the greatest')\n",
    "else:\n",
    "    print('the third value is the greatest')"
   ]
  },
  {
   "cell_type": "code",
   "execution_count": 3,
   "id": "3f9f96c2",
   "metadata": {},
   "outputs": [
    {
     "name": "stdout",
     "output_type": "stream",
     "text": [
      "15\n",
      "10\n",
      "12\n",
      "The first value is the greatest\n"
     ]
    }
   ],
   "source": [
    "x=int(input())\n",
    "y=int(input())\n",
    "z=int(input())\n",
    "if x>y:\n",
    "    if x>z:\n",
    "        print('The first value is the greatest')\n",
    "    else:\n",
    "        print('the third value is the greatest')\n",
    "elif y>z:\n",
    "    print('the second value is the greatest')\n",
    "else:\n",
    "    print('the third value is the greatest')"
   ]
  },
  {
   "cell_type": "markdown",
   "id": "21a3a4ed",
   "metadata": {},
   "source": [
    "# problem 3"
   ]
  },
  {
   "cell_type": "code",
   "execution_count": 4,
   "id": "20dcbe97",
   "metadata": {},
   "outputs": [
    {
     "name": "stdout",
     "output_type": "stream",
     "text": [
      "15\n",
      "not allowed to sit in the exam\n"
     ]
    }
   ],
   "source": [
    "x=float(input())\n",
    "if x>=75:\n",
    "    print('allowed to sit in the exam')\n",
    "else:\n",
    "    print('not allowed to sit in the exam')"
   ]
  },
  {
   "cell_type": "code",
   "execution_count": 5,
   "id": "dc8f05b0",
   "metadata": {},
   "outputs": [
    {
     "name": "stdout",
     "output_type": "stream",
     "text": [
      "75\n",
      "allowed to sit in the exam\n"
     ]
    }
   ],
   "source": [
    "x=float(input())\n",
    "if x>=75:\n",
    "    print('allowed to sit in the exam')\n",
    "else:\n",
    "    print('not allowed to sit in the exam')"
   ]
  },
  {
   "cell_type": "code",
   "execution_count": 6,
   "id": "bc53ff2a",
   "metadata": {},
   "outputs": [
    {
     "name": "stdout",
     "output_type": "stream",
     "text": [
      "78\n",
      "allowed to sit in the exam\n"
     ]
    }
   ],
   "source": [
    "x=float(input())\n",
    "if x>=75:\n",
    "    print('allowed to sit in the exam')\n",
    "else:\n",
    "    print('not allowed to sit in the exam')"
   ]
  },
  {
   "cell_type": "markdown",
   "id": "13c80d9f",
   "metadata": {},
   "source": [
    "# problem 4"
   ]
  },
  {
   "cell_type": "code",
   "execution_count": 2,
   "id": "fdf5b72e",
   "metadata": {},
   "outputs": [
    {
     "name": "stdout",
     "output_type": "stream",
     "text": [
      "90\n",
      "your grade is A\n"
     ]
    }
   ],
   "source": [
    "x=int(input())\n",
    "if x>90:\n",
    "    print('your grade is A plus')\n",
    "elif x<25:\n",
    "    print('your grade is F')\n",
    "elif (x>=25) and (x<=44):\n",
    "    print('your grade is E')\n",
    "elif (x>=45) and (x<=49):\n",
    "    print('your grade is D')\n",
    "elif (x>=50) and (x<=59):\n",
    "    print('ypur grade is C')\n",
    "elif (x>=60) and (x<=69):\n",
    "    print('your grade is B')\n",
    "else:\n",
    "    print('your grade is A')\n",
    "    "
   ]
  },
  {
   "cell_type": "markdown",
   "id": "2ec4c93b",
   "metadata": {},
   "source": [
    "# problem 5"
   ]
  },
  {
   "cell_type": "code",
   "execution_count": 11,
   "id": "94614b45",
   "metadata": {},
   "outputs": [
    {
     "name": "stdout",
     "output_type": "stream",
     "text": [
      "1 2 3 4 5 6 7 \n",
      "1 2 3 4 5 6 \n",
      "1 2 3 4 5 \n",
      "1 2 3 4 "
     ]
    }
   ],
   "source": [
    "for x in range(1, 9):\n",
    "    if x == 8:\n",
    "        print()\n",
    "        for y in range(1, 8):\n",
    "            if y == 7:\n",
    "                print()\n",
    "                for z in range(1, 7):\n",
    "                    if z == 6:\n",
    "                        print()\n",
    "                        for d in range(1, 6):\n",
    "                            if d == 5:\n",
    "                                break\n",
    "                            else:\n",
    "                                print(d, end=' ')\n",
    "                    else:\n",
    "                        print(z, end=' ')\n",
    "            else:\n",
    "                print(y, end=' ')\n",
    "    else:\n",
    "        print(x, end=' ')\n"
   ]
  },
  {
   "cell_type": "code",
   "execution_count": 13,
   "id": "67fa9b82",
   "metadata": {},
   "outputs": [
    {
     "name": "stdout",
     "output_type": "stream",
     "text": [
      "1 2 3 4 5 6 7 \n",
      "1 2 3 4 5 6 \n",
      "1 2 3 4 5 \n",
      "1 2 3 4 \n"
     ]
    }
   ],
   "source": [
    "for i in range(1,5):\n",
    "    for j in range(1,8-i+1):\n",
    "        print(j,end=' ')\n",
    "    print()"
   ]
  },
  {
   "cell_type": "code",
   "execution_count": 12,
   "id": "a6cd4863",
   "metadata": {},
   "outputs": [
    {
     "name": "stdout",
     "output_type": "stream",
     "text": [
      "1 2 3 4 5 6 7 \n",
      "1 2 3 4 5 6 \n",
      "1 2 3 4 5 \n",
      "1 2 3 4 \n"
     ]
    }
   ],
   "source": [
    "for i in range(7, 3, -1):\n",
    "    for j in range(1, i+1):\n",
    "        print(j, end=' ')\n",
    "    print()\n",
    "\n"
   ]
  },
  {
   "cell_type": "markdown",
   "id": "0d1ec3d1",
   "metadata": {},
   "source": [
    "# problem 6"
   ]
  },
  {
   "cell_type": "code",
   "execution_count": 15,
   "id": "c6b0ad3c",
   "metadata": {},
   "outputs": [
    {
     "name": "stdout",
     "output_type": "stream",
     "text": [
      "-100\n",
      "-99\n",
      "-98\n",
      "-97\n",
      "-96\n",
      "-95\n",
      "-94\n",
      "-93\n",
      "-92\n",
      "-91\n",
      "-90\n",
      "-89\n",
      "-88\n",
      "-87\n",
      "-86\n",
      "-85\n",
      "-84\n",
      "-83\n",
      "-82\n",
      "-81\n",
      "-80\n",
      "-79\n",
      "-78\n",
      "-77\n",
      "-76\n",
      "-75\n",
      "-74\n",
      "-73\n",
      "-72\n",
      "-71\n",
      "-70\n",
      "-69\n",
      "-68\n",
      "-67\n",
      "-66\n",
      "-65\n",
      "-64\n",
      "-63\n",
      "-62\n",
      "-61\n",
      "-60\n",
      "-59\n",
      "-58\n",
      "-57\n",
      "-56\n",
      "-55\n",
      "-54\n",
      "-53\n",
      "-52\n",
      "-51\n",
      "-50\n",
      "-49\n",
      "-48\n",
      "-47\n",
      "-46\n",
      "-45\n",
      "-44\n",
      "-43\n",
      "-42\n",
      "-41\n",
      "-40\n",
      "-39\n",
      "-38\n",
      "-37\n",
      "-36\n",
      "-35\n",
      "-34\n",
      "-33\n",
      "-32\n",
      "-31\n",
      "-30\n",
      "-29\n",
      "-28\n",
      "-27\n",
      "-26\n",
      "-25\n",
      "-24\n",
      "-23\n",
      "-22\n",
      "-21\n",
      "-20\n",
      "-19\n",
      "-18\n",
      "-17\n",
      "-16\n",
      "-15\n",
      "-14\n",
      "-13\n",
      "-12\n",
      "-11\n",
      "-10\n"
     ]
    }
   ],
   "source": [
    "for i in range(-100,-9):\n",
    "    print(i)"
   ]
  },
  {
   "cell_type": "markdown",
   "id": "b072a8a9",
   "metadata": {},
   "source": [
    "# problem 7"
   ]
  },
  {
   "cell_type": "code",
   "execution_count": 16,
   "id": "d59fa841",
   "metadata": {},
   "outputs": [
    {
     "name": "stdout",
     "output_type": "stream",
     "text": [
      "76110\n"
     ]
    }
   ],
   "source": [
    "sum = 0\n",
    "for i in range(10, 1000):\n",
    "    is_prime = True\n",
    "    for j in range(2, i):\n",
    "        if i % j == 0:\n",
    "            is_prime = False\n",
    "            break\n",
    "    if is_prime:\n",
    "        sum += i\n",
    "print(sum)\n"
   ]
  },
  {
   "cell_type": "markdown",
   "id": "0488b7a7",
   "metadata": {},
   "source": [
    "# problem 8"
   ]
  },
  {
   "cell_type": "code",
   "execution_count": 29,
   "id": "cd2c44f5",
   "metadata": {},
   "outputs": [
    {
     "name": "stdout",
     "output_type": "stream",
     "text": [
      "let us know the number: 5\n",
      "120\n"
     ]
    }
   ],
   "source": [
    "x=int(input('let us know the number: '))\n",
    "z=1\n",
    "for i in range(1,x+1):\n",
    "    z=z*i\n",
    "print(z)\n"
   ]
  },
  {
   "cell_type": "code",
   "execution_count": null,
   "id": "7380f4cd",
   "metadata": {},
   "outputs": [],
   "source": []
  }
 ],
 "metadata": {
  "kernelspec": {
   "display_name": "Python 3 (ipykernel)",
   "language": "python",
   "name": "python3"
  },
  "language_info": {
   "codemirror_mode": {
    "name": "ipython",
    "version": 3
   },
   "file_extension": ".py",
   "mimetype": "text/x-python",
   "name": "python",
   "nbconvert_exporter": "python",
   "pygments_lexer": "ipython3",
   "version": "3.9.13"
  }
 },
 "nbformat": 4,
 "nbformat_minor": 5
}
