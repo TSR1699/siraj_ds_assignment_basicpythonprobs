{
 "cells": [
  {
   "cell_type": "markdown",
   "id": "f9f72f81",
   "metadata": {},
   "source": [
    "# reverse this number 27956240710"
   ]
  },
  {
   "cell_type": "code",
   "execution_count": 1,
   "id": "ee872505",
   "metadata": {},
   "outputs": [
    {
     "name": "stdout",
     "output_type": "stream",
     "text": [
      "01704265972"
     ]
    }
   ],
   "source": [
    "a= 27956240710\n",
    "for i in range(1,12):\n",
    "    c=int(a/10)\n",
    "    b= a%10\n",
    "    a=c\n",
    "    print(b,end='')\n"
   ]
  },
  {
   "cell_type": "markdown",
   "id": "b29423fa",
   "metadata": {},
   "source": [
    "# problem 10"
   ]
  },
  {
   "cell_type": "code",
   "execution_count": 7,
   "id": "9a771a39",
   "metadata": {},
   "outputs": [
    {
     "name": "stdout",
     "output_type": "stream",
     "text": [
      "###\n",
      "####\n",
      "###\n",
      "##\n"
     ]
    }
   ],
   "source": [
    "for c in range(1,4):\n",
    "    print('#',end='')\n",
    "print()\n",
    "for i in range (4,1,-1):\n",
    "    for j in range(1,i+1):\n",
    "        print('#',end='')\n",
    "    print()\n",
    "        \n",
    "   "
   ]
  },
  {
   "cell_type": "code",
   "execution_count": 17,
   "id": "eaa2684f",
   "metadata": {},
   "outputs": [
    {
     "name": "stdout",
     "output_type": "stream",
     "text": [
      "#\n",
      "##\n",
      "###\n",
      "####\n",
      "###\n",
      "##\n",
      "#\n"
     ]
    }
   ],
   "source": [
    "for i in range(1,8):\n",
    "    if i<=4:\n",
    "        for j in range(1,i+1):\n",
    "            print('#',end='')\n",
    "        print()\n",
    "    elif i>=6:\n",
    "        break\n",
    "    else:\n",
    "        for j in range(i-1,1,-1):\n",
    "            for k in range(1,j):\n",
    "                print('#',end='')\n",
    "            print()\n",
    "   \n",
    "            "
   ]
  },
  {
   "cell_type": "code",
   "execution_count": 18,
   "id": "290af080",
   "metadata": {},
   "outputs": [
    {
     "name": "stdout",
     "output_type": "stream",
     "text": [
      "1\n",
      "12\n",
      "123\n",
      "1234\n",
      "123\n",
      "12\n",
      "1\n"
     ]
    }
   ],
   "source": [
    "for i in range(1,8):\n",
    "    if i<=4:\n",
    "        for j in range(1,i+1):\n",
    "            print(j,end='')\n",
    "        print()\n",
    "    elif i>=6:\n",
    "        break\n",
    "    else:\n",
    "        for j in range(i-1,1,-1):\n",
    "            for k in range(1,j):\n",
    "                print(k,end='')\n",
    "            print()\n",
    "   \n",
    "            "
   ]
  },
  {
   "cell_type": "code",
   "execution_count": 19,
   "id": "5fd90420",
   "metadata": {},
   "outputs": [
    {
     "name": "stdout",
     "output_type": "stream",
     "text": [
      "#\n",
      "##\n",
      "###\n",
      "####\n",
      "###\n",
      "##\n",
      "#\n"
     ]
    }
   ],
   "source": [
    "for i in range(1, 8):\n",
    "    if i <= 4:\n",
    "        for j in range(i):\n",
    "            print(\"#\", end=\"\")\n",
    "        print()\n",
    "    else:\n",
    "        for j in range(8-i):\n",
    "            print(\"#\", end=\"\")\n",
    "        print()\n"
   ]
  },
  {
   "cell_type": "code",
   "execution_count": 22,
   "id": "8122600c",
   "metadata": {},
   "outputs": [
    {
     "name": "stdout",
     "output_type": "stream",
     "text": [
      "\n",
      "1\n",
      "12\n",
      "123\n",
      "1234\n",
      "123\n",
      "12\n",
      "1\n",
      "\n"
     ]
    }
   ],
   "source": [
    "for i in range(1, 10):\n",
    "    if i <= 5:\n",
    "        for j in range(1,i):\n",
    "            print(j, end=\"\")\n",
    "        print()\n",
    "    else:\n",
    "        for j in range(1,10-i):\n",
    "            print(j, end=\"\")\n",
    "        print()\n"
   ]
  },
  {
   "cell_type": "markdown",
   "id": "12af173c",
   "metadata": {},
   "source": [
    "# problem 11 fibonacci"
   ]
  },
  {
   "cell_type": "code",
   "execution_count": 41,
   "id": "dfe7d056",
   "metadata": {},
   "outputs": [
    {
     "name": "stdout",
     "output_type": "stream",
     "text": [
      "20\n",
      "0 1 1 2 3 5 8 13 21 34 55 89 144 233 377 610 987 1597 2584 4181 "
     ]
    }
   ],
   "source": [
    "n=int(input())\n",
    "i=0\n",
    "j=1\n",
    "sum=0\n",
    "for k in range(0,n):\n",
    "    print(i,end=' ')\n",
    "    sum=i+j\n",
    "    i=j\n",
    "    j=sum\n",
    "    "
   ]
  },
  {
   "cell_type": "markdown",
   "id": "40449230",
   "metadata": {},
   "source": [
    "# problem 12 "
   ]
  },
  {
   "cell_type": "code",
   "execution_count": 4,
   "id": "e846f2f5",
   "metadata": {},
   "outputs": [],
   "source": [
    "li = [1,3,5, [2,3], True]\n",
    "li[3][0]= 3\n",
    "li[4]='false'"
   ]
  },
  {
   "cell_type": "code",
   "execution_count": 7,
   "id": "c257a466",
   "metadata": {},
   "outputs": [
    {
     "name": "stdout",
     "output_type": "stream",
     "text": [
      "[1, 3, 5, [3, 3], 'false']\n"
     ]
    }
   ],
   "source": [
    "print(li)"
   ]
  },
  {
   "cell_type": "markdown",
   "id": "85cb8eb8",
   "metadata": {},
   "source": [
    "# problem 13\n"
   ]
  },
  {
   "cell_type": "code",
   "execution_count": 20,
   "id": "9b3a4146",
   "metadata": {},
   "outputs": [
    {
     "data": {
      "text/plain": [
       "{1}"
      ]
     },
     "execution_count": 20,
     "metadata": {},
     "output_type": "execute_result"
    }
   ],
   "source": [
    "s1={1,4,6,8}\n",
    "s2={'True',1,2,10}\n",
    "s1 & s2"
   ]
  },
  {
   "cell_type": "markdown",
   "id": "5d90d71e",
   "metadata": {},
   "source": [
    "## problem 14"
   ]
  },
  {
   "cell_type": "code",
   "execution_count": 23,
   "id": "c8c92a8b",
   "metadata": {},
   "outputs": [
    {
     "ename": "SyntaxError",
     "evalue": "invalid syntax (3763188100.py, line 6)",
     "output_type": "error",
     "traceback": [
      "\u001b[1;36m  File \u001b[1;32m\"C:\\Users\\tahsi\\AppData\\Local\\Temp\\ipykernel_11636\\3763188100.py\"\u001b[1;36m, line \u001b[1;32m6\u001b[0m\n\u001b[1;33m    for p in range(nm-1)\u001b[0m\n\u001b[1;37m                        ^\u001b[0m\n\u001b[1;31mSyntaxError\u001b[0m\u001b[1;31m:\u001b[0m invalid syntax\n"
     ]
    }
   ],
   "source": [
    "li=[]\n",
    "nm=int(input('insert total number of items to be put in the list: '))\n",
    "for i in range(nm):\n",
    "    li.append(input())\n",
    "for z in li:\n",
    "    for p in range(nm-1)\n",
    "        if z==li[(li.index(z)+1+p)]:\n",
    "            continue\n",
    "print(z)"
   ]
  },
  {
   "cell_type": "code",
   "execution_count": 32,
   "id": "deac813d",
   "metadata": {},
   "outputs": [
    {
     "name": "stdout",
     "output_type": "stream",
     "text": [
      "Enter a list of numbers separated by space: 1 9 3 4 5 200 54\n",
      "The maximum number is: 200\n",
      "{1, 3, 4, 5, 200, 9, 54}\n"
     ]
    }
   ],
   "source": [
    "# take input from user using split so that the assumes values work as a string\n",
    "l1 = input(\"Enter a list of numbers separated by space: \").split()\n",
    "\n",
    "\n",
    "# convert each element to integer because otherwise it will work as a string and cannot determine the max value\n",
    "l1 = [int(x) for x in l1]\n",
    "\n",
    "# remove duplicates and convert to set\n",
    "s1 = set(l1) #set automatically removes the duplicate numbers\n",
    "\n",
    "# find maximum number\n",
    "max_nm = max(s1)\n",
    "\n",
    "# print the result\n",
    "print(\"The maximum number is:\", max_nm)\n",
    "\n",
    "print(s1)"
   ]
  },
  {
   "cell_type": "markdown",
   "id": "7fc49826",
   "metadata": {},
   "source": [
    "## problem 15 "
   ]
  },
  {
   "cell_type": "code",
   "execution_count": 33,
   "id": "e38f914f",
   "metadata": {},
   "outputs": [],
   "source": [
    "Dict = { \"name\": \"Shakil\", \"age\":27 , \"city\":\"Berlin\" , \"country\": \"Germany\" }\n"
   ]
  },
  {
   "cell_type": "code",
   "execution_count": 34,
   "id": "b72bb03d",
   "metadata": {},
   "outputs": [
    {
     "data": {
      "text/plain": [
       "dict_keys(['name', 'age', 'city', 'country'])"
      ]
     },
     "execution_count": 34,
     "metadata": {},
     "output_type": "execute_result"
    }
   ],
   "source": [
    "Dict.keys()"
   ]
  },
  {
   "cell_type": "code",
   "execution_count": 35,
   "id": "82203454",
   "metadata": {},
   "outputs": [
    {
     "name": "stdout",
     "output_type": "stream",
     "text": [
      "{'name': 'Shakil', 'age': 27, 'city': 'Berlin', 'region': 'Germany'}\n"
     ]
    }
   ],
   "source": [
    "Dict['region']=Dict.pop('country')\n",
    "print(Dict)"
   ]
  },
  {
   "cell_type": "markdown",
   "id": "23650ed8",
   "metadata": {},
   "source": [
    "## problem 16"
   ]
  },
  {
   "cell_type": "code",
   "execution_count": 41,
   "id": "946721bb",
   "metadata": {},
   "outputs": [
    {
     "name": "stdout",
     "output_type": "stream",
     "text": [
      "   column number\n",
      "0             10\n",
      "1            100\n",
      "2            300\n"
     ]
    }
   ],
   "source": [
    "num = [10,100,300]\n",
    "import pandas as p\n",
    "df=p.DataFrame({'column number':num})\n",
    "print(df)"
   ]
  },
  {
   "cell_type": "markdown",
   "id": "936dbfcf",
   "metadata": {},
   "source": [
    "## problem 17"
   ]
  },
  {
   "cell_type": "code",
   "execution_count": 43,
   "id": "92f0047c",
   "metadata": {},
   "outputs": [
    {
     "data": {
      "text/plain": [
       "{'name': 'Shakil', 'age': 27, 'city': 'Berlin', 'country': 'Germany'}"
      ]
     },
     "execution_count": 43,
     "metadata": {},
     "output_type": "execute_result"
    }
   ],
   "source": [
    "Dict = { \"name\": \"Shakil\", \"age\":27, \"city\":\"Berlin\", \"country\": \"Germany\" }\n",
    "\n",
    "Dict"
   ]
  },
  {
   "cell_type": "code",
   "execution_count": 48,
   "id": "7dcc0297",
   "metadata": {},
   "outputs": [
    {
     "data": {
      "text/plain": [
       "{'name': 'Shakil', 'age': 28, 'city': 'Berlin', 'country': 'Germany'}"
      ]
     },
     "execution_count": 48,
     "metadata": {},
     "output_type": "execute_result"
    }
   ],
   "source": [
    "Dict['age']=28\n",
    "Dict"
   ]
  },
  {
   "cell_type": "code",
   "execution_count": 49,
   "id": "70b41f4b",
   "metadata": {},
   "outputs": [],
   "source": [
    "#Dict={'name': 'Shakil', 'age': 28, 'city': 'Berlin', 'country': 'Germany'}\n",
    "#import pandas as pd\n",
    "#df=pd.DataFrame(Dict)\n",
    "#print(df)\n",
    "#this code will not work simply because of absence of indexing\"[]\" in the values section. "
   ]
  },
  {
   "cell_type": "code",
   "execution_count": 50,
   "id": "4af0e0b8",
   "metadata": {},
   "outputs": [
    {
     "name": "stdout",
     "output_type": "stream",
     "text": [
      "     name  age    city  country\n",
      "0  Shakil   28  Berlin  Germany\n"
     ]
    }
   ],
   "source": [
    "#here is the correct code for this to convert into a dataframe\n",
    "\n",
    "Dict={'name': ['Shakil'], 'age': [28], 'city': ['Berlin'], 'country': ['Germany']}\n",
    "import pandas as pd\n",
    "df=pd.DataFrame(Dict)\n",
    "print(df)\n"
   ]
  },
  {
   "cell_type": "code",
   "execution_count": null,
   "id": "02e6c529",
   "metadata": {},
   "outputs": [],
   "source": [
    "###the end!"
   ]
  }
 ],
 "metadata": {
  "kernelspec": {
   "display_name": "Python 3 (ipykernel)",
   "language": "python",
   "name": "python3"
  },
  "language_info": {
   "codemirror_mode": {
    "name": "ipython",
    "version": 3
   },
   "file_extension": ".py",
   "mimetype": "text/x-python",
   "name": "python",
   "nbconvert_exporter": "python",
   "pygments_lexer": "ipython3",
   "version": "3.9.13"
  }
 },
 "nbformat": 4,
 "nbformat_minor": 5
}
